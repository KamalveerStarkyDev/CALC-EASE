{
 "cells": [
  {
   "cell_type": "markdown",
   "metadata": {},
   "source": [
    "# This code is for the basics of SymPy library\n",
    "\n",
    "*Install 'sympy' library to your system by opening cmd and typing **'pip install sympy'***"
   ]
  },
  {
   "cell_type": "markdown",
   "metadata": {},
   "source": [
    "If we want to write any sympy expression, we have to declare its symbolic variables. Which can be done by -\n",
    "\n",
    "- **sympy.Symbol()**: It's used to declare a single variable by passing the variable as a string as a parameter.\n",
    "\n",
    "- **sympy.symbols()**: It's used to declare multiple variables as a string separated by a space."
   ]
  },
  {
   "cell_type": "code",
   "execution_count": 1,
   "metadata": {},
   "outputs": [],
   "source": [
    "# import library\n",
    "import sympy as sym"
   ]
  },
  {
   "cell_type": "code",
   "execution_count": 2,
   "metadata": {},
   "outputs": [],
   "source": [
    "# declaration of variables\n",
    "a = sym.Symbol('a')\n",
    "x, y, z = sym.symbols('x y z')"
   ]
  },
  {
   "cell_type": "code",
   "execution_count": 3,
   "metadata": {},
   "outputs": [],
   "source": [
    "expression1 = 3 * (a ** 4)\n",
    "expression2 = x ** 2 + y ** (1 / 2) + z ** (-3)"
   ]
  },
  {
   "cell_type": "markdown",
   "metadata": {},
   "source": [
    "### Differentiation"
   ]
  },
  {
   "cell_type": "code",
   "execution_count": 4,
   "metadata": {},
   "outputs": [
    {
     "name": "stdout",
     "output_type": "stream",
     "text": [
      "derivative of 3 * (a ** 4) w.r.t x is:  12*a**3\n"
     ]
    }
   ],
   "source": [
    "derivative1 = sym.diff(expression1, a)\n",
    "print('derivative of 3 * (a ** 4) w.r.t x is: ', derivative1)"
   ]
  },
  {
   "cell_type": "code",
   "execution_count": 5,
   "metadata": {},
   "outputs": [
    {
     "name": "stdout",
     "output_type": "stream",
     "text": [
      "derivative of x ** 2 + y ** (1 / 2) + z ** (-3) w.r.t x is:  2*x\n",
      "derivative of x ** 2 + y ** (1 / 2) + z ** (-3) w.r.t y is:  0.5/y**0.5\n",
      "derivative of x ** 2 + y ** (1 / 2) + z ** (-3) w.r.t z is:  -3/z**4\n"
     ]
    }
   ],
   "source": [
    "derivative2 = sym.diff(expression2, x)\n",
    "print('derivative of x ** 2 + y ** (1 / 2) + z ** (-3) w.r.t x is: ', derivative2)\n",
    "\n",
    "derivative3 = sym.diff(expression2, y)\n",
    "print('derivative of x ** 2 + y ** (1 / 2) + z ** (-3) w.r.t y is: ', derivative3)\n",
    "\n",
    "derivative4 = sym.diff(expression2, z)\n",
    "print('derivative of x ** 2 + y ** (1 / 2) + z ** (-3) w.r.t z is: ', derivative4)"
   ]
  },
  {
   "cell_type": "code",
   "execution_count": 6,
   "metadata": {},
   "outputs": [
    {
     "name": "stdout",
     "output_type": "stream",
     "text": [
      "second derivative of 3 * (a ** 4) w.r.t x is:  36*a**2\n"
     ]
    }
   ],
   "source": [
    "# finding the second derivative\n",
    "second_derivative1 = sym.diff(expression1, a, 2)\n",
    "print('second derivative of 3 * (a ** 4) w.r.t x is: ', second_derivative1)"
   ]
  },
  {
   "cell_type": "markdown",
   "metadata": {},
   "source": [
    "### Integration"
   ]
  },
  {
   "cell_type": "code",
   "execution_count": 7,
   "metadata": {},
   "outputs": [
    {
     "name": "stdout",
     "output_type": "stream",
     "text": [
      "indefinite integration of cos(x) w.r.t x is:  sin(x)\n"
     ]
    }
   ],
   "source": [
    "# indefimite integration of cos(x) w.r.t dx\n",
    "\n",
    "integral1 = sym.integrate(sym.cos(x), x)\n",
    "print('indefinite integration of cos(x) w.r.t x is: ', integral1)"
   ]
  },
  {
   "cell_type": "code",
   "execution_count": 8,
   "metadata": {},
   "outputs": [
    {
     "name": "stdout",
     "output_type": "stream",
     "text": [
      "definite integration of cos(x) w.r.t x between -1 to 1 is:  2*sin(1)\n"
     ]
    }
   ],
   "source": [
    "# definite integration of cos(x) w.r.t dx between -1 to 1\n",
    "\n",
    "integral2 = sym.integrate(sym.cos(x), (x, -1, 1))\n",
    "print('definite integration of cos(x) w.r.t x between -1 to 1 is: ', integral2)"
   ]
  },
  {
   "cell_type": "code",
   "execution_count": 9,
   "metadata": {},
   "outputs": [
    {
     "name": "stdout",
     "output_type": "stream",
     "text": [
      "definite integration of exp(-x) w.r.t x between 0 to infinity is:  1\n"
     ]
    }
   ],
   "source": [
    "# definite integration of exp(-x) w.r.t dx between 0 to infinity\n",
    "\n",
    "integral3 = sym.integrate(sym.exp(-x), (x, 0, sym.oo))\n",
    "print('definite integration of exp(-x) w.r.t x between 0 to infinity is: ', integral3)"
   ]
  },
  {
   "cell_type": "markdown",
   "metadata": {},
   "source": [
    "### Limits\n",
    "\n",
    "**limit(function, variable, point)**\n",
    "\n",
    "So, to find limit of **f(x) as x -> 0**\n",
    "\n",
    "we'll write **limit(f, x, 0)**"
   ]
  },
  {
   "cell_type": "code",
   "execution_count": 10,
   "metadata": {},
   "outputs": [
    {
     "name": "stdout",
     "output_type": "stream",
     "text": [
      "limit of f(x) = x as x approaches infinity is:  oo\n"
     ]
    }
   ],
   "source": [
    "# calculating the limit of f(x) = x as x approaches infinity\n",
    "\n",
    "limit1 = sym.limit(x, x, sym.oo)\n",
    "print('limit of f(x) = x as x approaches infinity is: ', limit1)"
   ]
  },
  {
   "cell_type": "markdown",
   "metadata": {},
   "source": [
    "NOTE : In sympy **infinity** is represented by **sym.oo**"
   ]
  },
  {
   "cell_type": "code",
   "execution_count": 11,
   "metadata": {},
   "outputs": [
    {
     "name": "stdout",
     "output_type": "stream",
     "text": [
      "limit of f(x) = 1/x as x approaches infinity is:  0\n"
     ]
    }
   ],
   "source": [
    "# calculating the limit of f(x) = 1/x as x approaches infinity\n",
    "\n",
    "limit2 = sym.limit(1 / x, x, sym.oo)\n",
    "print('limit of f(x) = 1/x as x approaches infinity is: ', limit2)"
   ]
  },
  {
   "cell_type": "code",
   "execution_count": 12,
   "metadata": {},
   "outputs": [
    {
     "name": "stdout",
     "output_type": "stream",
     "text": [
      "limit of f(x) = sin(x)/x as x approaches 0 is:  1\n"
     ]
    }
   ],
   "source": [
    "# calculating the limit of f(x) = sin(x)/x as x approaches 0\n",
    "\n",
    "limit3 = sym.limit(sym.sin(x) / x, x, 0)\n",
    "print('limit of f(x) = sin(x)/x as x approaches 0 is: ', limit3)"
   ]
  },
  {
   "cell_type": "markdown",
   "metadata": {},
   "source": [
    "### Series Expansion\n",
    "\n",
    "To compute the expansion of f(x) around the point x=x0 terms of order x^n, use\n",
    "\n",
    "**sympy.series(f, x, x0, n)**\n",
    "\n",
    "x0 and n can be omitted, in which case the defaults x0 = 0 and n = 6 will be used."
   ]
  },
  {
   "cell_type": "code",
   "execution_count": 14,
   "metadata": {},
   "outputs": [
    {
     "name": "stdout",
     "output_type": "stream",
     "text": [
      "series of cos(x) is:  1 - x**2/2 + x**4/24 + O(x**6)\n"
     ]
    }
   ],
   "source": [
    "# assign series\n",
    "series1 = sym.series(sym.cos(x), x)\n",
    "print('series of cos(x) is: ', series1)"
   ]
  },
  {
   "cell_type": "code",
   "execution_count": 20,
   "metadata": {},
   "outputs": [
    {
     "name": "stdout",
     "output_type": "stream",
     "text": [
      "1 + x**2/2 + 5*x**4/24 + O(x**5)\n"
     ]
    }
   ],
   "source": [
    "series2 = sym.series(1/sym.cos(x), x, 0, 5)\n",
    "print(series2)"
   ]
  },
  {
   "cell_type": "markdown",
   "metadata": {},
   "source": [
    "As we've seen that we can perform various sorts of complex calculations by using this library and get accurate and faster results.\n",
    "\n",
    "References - [GEEKS FOR GEEKS](https://www.geeksforgeeks.org/how-to-do-calculus-with-python/)"
   ]
  }
 ],
 "metadata": {
  "kernelspec": {
   "display_name": "Python 3",
   "language": "python",
   "name": "python3"
  },
  "language_info": {
   "codemirror_mode": {
    "name": "ipython",
    "version": 3
   },
   "file_extension": ".py",
   "mimetype": "text/x-python",
   "name": "python",
   "nbconvert_exporter": "python",
   "pygments_lexer": "ipython3",
   "version": "3.10.11"
  }
 },
 "nbformat": 4,
 "nbformat_minor": 2
}
